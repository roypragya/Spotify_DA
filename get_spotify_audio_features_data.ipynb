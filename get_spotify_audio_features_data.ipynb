{
 "cells": [
  {
   "cell_type": "code",
   "execution_count": 13,
   "id": "a4627e54-903a-4190-b72e-6ea5bd643f25",
   "metadata": {},
   "outputs": [
    {
     "name": "stdout",
     "output_type": "stream",
     "text": [
      "(1000, 4)\n"
     ]
    },
    {
     "data": {
      "text/plain": [
       "32"
      ]
     },
     "execution_count": 13,
     "metadata": {},
     "output_type": "execute_result"
    }
   ],
   "source": [
    "import pandas as pd\n",
    "import spotipy \n",
    "from spotipy.oauth2 import SpotifyClientCredentials \n",
    "cid =\"5cf7fd8a74434b4aa2243cd27dc0e490\" \n",
    "secret = \"033870832e60454b8c23e5e7a56b4280\" \n",
    "client_credentials_manager = SpotifyClientCredentials(client_id=cid, client_secret=secret) \n",
    "sp = spotipy.Spotify(client_credentials_manager=client_credentials_manager)\n",
    "\n",
    "artist_name = []\n",
    "track_name = []\n",
    "popularity = []\n",
    "track_id = []\n",
    "for i in range(0,1000,50): \n",
    "    track_results = sp.search(q='year:2022', type='track', limit=50,offset=i) \n",
    "    for i, t in enumerate(track_results['tracks']['items']):\n",
    "           artist_name.append(t['artists'][0]['name']) \n",
    "           track_name.append(t['name']) \n",
    "           track_id.append(t['id']) \n",
    "           popularity.append(t['popularity'])\n",
    "\n",
    "\n",
    "df_tracks = pd.DataFrame({'popularity':popularity,'artist_name':artist_name,'track_name':track_name,'track_id':track_id})\n",
    "# df_tracks = df_tracks.sort_values('popularity', ascending=False)\n",
    "print(df_tracks.shape)\n",
    "df_tracks.head()\n",
    "\n",
    "grouped = df_tracks.groupby(['artist_name','track_name'], as_index=True).size()\n",
    "grouped[grouped > 1].count()"
   ]
  },
  {
   "cell_type": "code",
   "execution_count": 2,
   "id": "bccd28c4-de62-4a1a-ade1-e48885d3a826",
   "metadata": {},
   "outputs": [],
   "source": [
    "df_tracks.drop_duplicates(subset=['artist_name','track_name'], inplace=True)"
   ]
  },
  {
   "cell_type": "code",
   "execution_count": 3,
   "id": "d9af9bfa-bfc3-4eb1-82bc-6fb04b574689",
   "metadata": {},
   "outputs": [
    {
     "data": {
      "text/plain": [
       "0"
      ]
     },
     "execution_count": 3,
     "metadata": {},
     "output_type": "execute_result"
    }
   ],
   "source": [
    "grouped_after_dropping = df_tracks.groupby(['artist_name','track_name'], as_index=True).size()\n",
    "grouped_after_dropping[grouped_after_dropping > 1].count()"
   ]
  },
  {
   "cell_type": "code",
   "execution_count": 4,
   "id": "b09594dd-f192-4a08-9328-4d7e77b73490",
   "metadata": {},
   "outputs": [
    {
     "data": {
      "text/plain": [
       "(955, 4)"
      ]
     },
     "execution_count": 4,
     "metadata": {},
     "output_type": "execute_result"
    }
   ],
   "source": [
    "df_tracks.shape"
   ]
  },
  {
   "cell_type": "code",
   "execution_count": 5,
   "id": "40a45114-197b-489f-b73a-632fdc2662cc",
   "metadata": {},
   "outputs": [
    {
     "name": "stdout",
     "output_type": "stream",
     "text": [
      "Number of tracks where no audio features were available: 5\n"
     ]
    }
   ],
   "source": [
    "rows = []\n",
    "batchsize = 100\n",
    "None_counter = 0\n",
    "\n",
    "for i in range(0,len(df_tracks['track_id']),batchsize):\n",
    "    batch = df_tracks['track_id'][i:i+batchsize]\n",
    "    feature_results = sp.audio_features(batch)\n",
    "    for i, t in enumerate(feature_results):\n",
    "        if t == None:\n",
    "            None_counter = None_counter + 1\n",
    "        else:\n",
    "            rows.append(t)\n",
    "            \n",
    "print('Number of tracks where no audio features were available:',None_counter)"
   ]
  },
  {
   "cell_type": "code",
   "execution_count": 6,
   "id": "7fd80b8e-7b74-4a91-82b4-35a01803bca2",
   "metadata": {},
   "outputs": [
    {
     "name": "stdout",
     "output_type": "stream",
     "text": [
      "Shape of the dataset: (950, 18)\n"
     ]
    },
    {
     "data": {
      "text/html": [
       "<div>\n",
       "<style scoped>\n",
       "    .dataframe tbody tr th:only-of-type {\n",
       "        vertical-align: middle;\n",
       "    }\n",
       "\n",
       "    .dataframe tbody tr th {\n",
       "        vertical-align: top;\n",
       "    }\n",
       "\n",
       "    .dataframe thead th {\n",
       "        text-align: right;\n",
       "    }\n",
       "</style>\n",
       "<table border=\"1\" class=\"dataframe\">\n",
       "  <thead>\n",
       "    <tr style=\"text-align: right;\">\n",
       "      <th></th>\n",
       "      <th>danceability</th>\n",
       "      <th>energy</th>\n",
       "      <th>key</th>\n",
       "      <th>loudness</th>\n",
       "      <th>mode</th>\n",
       "      <th>speechiness</th>\n",
       "      <th>acousticness</th>\n",
       "      <th>instrumentalness</th>\n",
       "      <th>liveness</th>\n",
       "      <th>valence</th>\n",
       "      <th>tempo</th>\n",
       "      <th>type</th>\n",
       "      <th>id</th>\n",
       "      <th>uri</th>\n",
       "      <th>track_href</th>\n",
       "      <th>analysis_url</th>\n",
       "      <th>duration_ms</th>\n",
       "      <th>time_signature</th>\n",
       "    </tr>\n",
       "  </thead>\n",
       "  <tbody>\n",
       "    <tr>\n",
       "      <th>0</th>\n",
       "      <td>0.911</td>\n",
       "      <td>0.712</td>\n",
       "      <td>1</td>\n",
       "      <td>-5.105</td>\n",
       "      <td>0</td>\n",
       "      <td>0.0817</td>\n",
       "      <td>0.09010</td>\n",
       "      <td>0.000027</td>\n",
       "      <td>0.0933</td>\n",
       "      <td>0.425</td>\n",
       "      <td>92.005</td>\n",
       "      <td>audio_features</td>\n",
       "      <td>6Sq7ltF9Qa7SNFBsV5Cogx</td>\n",
       "      <td>spotify:track:6Sq7ltF9Qa7SNFBsV5Cogx</td>\n",
       "      <td>https://api.spotify.com/v1/tracks/6Sq7ltF9Qa7S...</td>\n",
       "      <td>https://api.spotify.com/v1/audio-analysis/6Sq7...</td>\n",
       "      <td>178567</td>\n",
       "      <td>4</td>\n",
       "    </tr>\n",
       "    <tr>\n",
       "      <th>1</th>\n",
       "      <td>0.521</td>\n",
       "      <td>0.683</td>\n",
       "      <td>5</td>\n",
       "      <td>-6.240</td>\n",
       "      <td>0</td>\n",
       "      <td>0.5010</td>\n",
       "      <td>0.15900</td>\n",
       "      <td>0.000000</td>\n",
       "      <td>0.1870</td>\n",
       "      <td>0.737</td>\n",
       "      <td>139.439</td>\n",
       "      <td>audio_features</td>\n",
       "      <td>4eHkG6yWQ4pD0zqVkV0R5a</td>\n",
       "      <td>spotify:track:4eHkG6yWQ4pD0zqVkV0R5a</td>\n",
       "      <td>https://api.spotify.com/v1/tracks/4eHkG6yWQ4pD...</td>\n",
       "      <td>https://api.spotify.com/v1/audio-analysis/4eHk...</td>\n",
       "      <td>161808</td>\n",
       "      <td>3</td>\n",
       "    </tr>\n",
       "    <tr>\n",
       "      <th>2</th>\n",
       "      <td>0.824</td>\n",
       "      <td>0.697</td>\n",
       "      <td>11</td>\n",
       "      <td>-4.869</td>\n",
       "      <td>0</td>\n",
       "      <td>0.0473</td>\n",
       "      <td>0.15800</td>\n",
       "      <td>0.000041</td>\n",
       "      <td>0.0770</td>\n",
       "      <td>0.757</td>\n",
       "      <td>99.988</td>\n",
       "      <td>audio_features</td>\n",
       "      <td>7fYRg3CEbk6rNCuzNzMT06</td>\n",
       "      <td>spotify:track:7fYRg3CEbk6rNCuzNzMT06</td>\n",
       "      <td>https://api.spotify.com/v1/tracks/7fYRg3CEbk6r...</td>\n",
       "      <td>https://api.spotify.com/v1/audio-analysis/7fYR...</td>\n",
       "      <td>214460</td>\n",
       "      <td>4</td>\n",
       "    </tr>\n",
       "    <tr>\n",
       "      <th>3</th>\n",
       "      <td>0.658</td>\n",
       "      <td>0.935</td>\n",
       "      <td>2</td>\n",
       "      <td>-6.030</td>\n",
       "      <td>0</td>\n",
       "      <td>0.0679</td>\n",
       "      <td>0.00948</td>\n",
       "      <td>0.670000</td>\n",
       "      <td>0.0536</td>\n",
       "      <td>0.919</td>\n",
       "      <td>124.006</td>\n",
       "      <td>audio_features</td>\n",
       "      <td>6m5Pu0B2YVPR8BkrbKvHuE</td>\n",
       "      <td>spotify:track:6m5Pu0B2YVPR8BkrbKvHuE</td>\n",
       "      <td>https://api.spotify.com/v1/tracks/6m5Pu0B2YVPR...</td>\n",
       "      <td>https://api.spotify.com/v1/audio-analysis/6m5P...</td>\n",
       "      <td>173161</td>\n",
       "      <td>4</td>\n",
       "    </tr>\n",
       "    <tr>\n",
       "      <th>4</th>\n",
       "      <td>0.686</td>\n",
       "      <td>0.507</td>\n",
       "      <td>1</td>\n",
       "      <td>-7.097</td>\n",
       "      <td>1</td>\n",
       "      <td>0.0357</td>\n",
       "      <td>0.62600</td>\n",
       "      <td>0.000075</td>\n",
       "      <td>0.3830</td>\n",
       "      <td>0.690</td>\n",
       "      <td>168.955</td>\n",
       "      <td>audio_features</td>\n",
       "      <td>5CM4UuQ9Gnd6K2YyKGPMoK</td>\n",
       "      <td>spotify:track:5CM4UuQ9Gnd6K2YyKGPMoK</td>\n",
       "      <td>https://api.spotify.com/v1/tracks/5CM4UuQ9Gnd6...</td>\n",
       "      <td>https://api.spotify.com/v1/audio-analysis/5CM4...</td>\n",
       "      <td>232115</td>\n",
       "      <td>4</td>\n",
       "    </tr>\n",
       "  </tbody>\n",
       "</table>\n",
       "</div>"
      ],
      "text/plain": [
       "   danceability  energy  key  loudness  mode  speechiness  acousticness  \\\n",
       "0         0.911   0.712    1    -5.105     0       0.0817       0.09010   \n",
       "1         0.521   0.683    5    -6.240     0       0.5010       0.15900   \n",
       "2         0.824   0.697   11    -4.869     0       0.0473       0.15800   \n",
       "3         0.658   0.935    2    -6.030     0       0.0679       0.00948   \n",
       "4         0.686   0.507    1    -7.097     1       0.0357       0.62600   \n",
       "\n",
       "   instrumentalness  liveness  valence    tempo            type  \\\n",
       "0          0.000027    0.0933    0.425   92.005  audio_features   \n",
       "1          0.000000    0.1870    0.737  139.439  audio_features   \n",
       "2          0.000041    0.0770    0.757   99.988  audio_features   \n",
       "3          0.670000    0.0536    0.919  124.006  audio_features   \n",
       "4          0.000075    0.3830    0.690  168.955  audio_features   \n",
       "\n",
       "                       id                                   uri  \\\n",
       "0  6Sq7ltF9Qa7SNFBsV5Cogx  spotify:track:6Sq7ltF9Qa7SNFBsV5Cogx   \n",
       "1  4eHkG6yWQ4pD0zqVkV0R5a  spotify:track:4eHkG6yWQ4pD0zqVkV0R5a   \n",
       "2  7fYRg3CEbk6rNCuzNzMT06  spotify:track:7fYRg3CEbk6rNCuzNzMT06   \n",
       "3  6m5Pu0B2YVPR8BkrbKvHuE  spotify:track:6m5Pu0B2YVPR8BkrbKvHuE   \n",
       "4  5CM4UuQ9Gnd6K2YyKGPMoK  spotify:track:5CM4UuQ9Gnd6K2YyKGPMoK   \n",
       "\n",
       "                                          track_href  \\\n",
       "0  https://api.spotify.com/v1/tracks/6Sq7ltF9Qa7S...   \n",
       "1  https://api.spotify.com/v1/tracks/4eHkG6yWQ4pD...   \n",
       "2  https://api.spotify.com/v1/tracks/7fYRg3CEbk6r...   \n",
       "3  https://api.spotify.com/v1/tracks/6m5Pu0B2YVPR...   \n",
       "4  https://api.spotify.com/v1/tracks/5CM4UuQ9Gnd6...   \n",
       "\n",
       "                                        analysis_url  duration_ms  \\\n",
       "0  https://api.spotify.com/v1/audio-analysis/6Sq7...       178567   \n",
       "1  https://api.spotify.com/v1/audio-analysis/4eHk...       161808   \n",
       "2  https://api.spotify.com/v1/audio-analysis/7fYR...       214460   \n",
       "3  https://api.spotify.com/v1/audio-analysis/6m5P...       173161   \n",
       "4  https://api.spotify.com/v1/audio-analysis/5CM4...       232115   \n",
       "\n",
       "   time_signature  \n",
       "0               4  \n",
       "1               3  \n",
       "2               4  \n",
       "3               4  \n",
       "4               4  "
      ]
     },
     "execution_count": 6,
     "metadata": {},
     "output_type": "execute_result"
    }
   ],
   "source": [
    "df_audio_features = pd.DataFrame.from_dict(rows,orient='columns')\n",
    "print(\"Shape of the dataset:\", df_audio_features.shape)\n",
    "df_audio_features.head()"
   ]
  },
  {
   "cell_type": "code",
   "execution_count": 7,
   "id": "4f6c04b8-0ab3-4f30-bfbb-974595e974de",
   "metadata": {},
   "outputs": [
    {
     "name": "stdout",
     "output_type": "stream",
     "text": [
      "<class 'pandas.core.frame.DataFrame'>\n",
      "RangeIndex: 950 entries, 0 to 949\n",
      "Data columns (total 18 columns):\n",
      " #   Column            Non-Null Count  Dtype  \n",
      "---  ------            --------------  -----  \n",
      " 0   danceability      950 non-null    float64\n",
      " 1   energy            950 non-null    float64\n",
      " 2   key               950 non-null    int64  \n",
      " 3   loudness          950 non-null    float64\n",
      " 4   mode              950 non-null    int64  \n",
      " 5   speechiness       950 non-null    float64\n",
      " 6   acousticness      950 non-null    float64\n",
      " 7   instrumentalness  950 non-null    float64\n",
      " 8   liveness          950 non-null    float64\n",
      " 9   valence           950 non-null    float64\n",
      " 10  tempo             950 non-null    float64\n",
      " 11  type              950 non-null    object \n",
      " 12  id                950 non-null    object \n",
      " 13  uri               950 non-null    object \n",
      " 14  track_href        950 non-null    object \n",
      " 15  analysis_url      950 non-null    object \n",
      " 16  duration_ms       950 non-null    int64  \n",
      " 17  time_signature    950 non-null    int64  \n",
      "dtypes: float64(9), int64(4), object(5)\n",
      "memory usage: 133.7+ KB\n"
     ]
    }
   ],
   "source": [
    "df_audio_features.info()"
   ]
  },
  {
   "cell_type": "code",
   "execution_count": 8,
   "id": "002118e7-b2f6-48ad-9cd0-261e989ee866",
   "metadata": {},
   "outputs": [
    {
     "data": {
      "text/plain": [
       "(950, 14)"
      ]
     },
     "execution_count": 8,
     "metadata": {},
     "output_type": "execute_result"
    }
   ],
   "source": [
    "columns_to_drop = ['analysis_url','track_href','type','uri']\n",
    "df_audio_features.drop(columns_to_drop, axis=1,inplace=True)\n",
    "\n",
    "df_audio_features.rename(columns={'id': 'track_id'}, inplace=True)\n",
    "\n",
    "df_audio_features.shape"
   ]
  },
  {
   "cell_type": "code",
   "execution_count": 9,
   "id": "9612ff1a-7ae6-4188-9008-a0d2b4d7adec",
   "metadata": {},
   "outputs": [
    {
     "name": "stdout",
     "output_type": "stream",
     "text": [
      "Shape of the dataset: (950, 14)\n"
     ]
    },
    {
     "data": {
      "text/html": [
       "<div>\n",
       "<style scoped>\n",
       "    .dataframe tbody tr th:only-of-type {\n",
       "        vertical-align: middle;\n",
       "    }\n",
       "\n",
       "    .dataframe tbody tr th {\n",
       "        vertical-align: top;\n",
       "    }\n",
       "\n",
       "    .dataframe thead th {\n",
       "        text-align: right;\n",
       "    }\n",
       "</style>\n",
       "<table border=\"1\" class=\"dataframe\">\n",
       "  <thead>\n",
       "    <tr style=\"text-align: right;\">\n",
       "      <th></th>\n",
       "      <th>popularity</th>\n",
       "      <th>artist_name</th>\n",
       "      <th>track_name</th>\n",
       "      <th>track_id</th>\n",
       "      <th>danceability</th>\n",
       "      <th>energy</th>\n",
       "      <th>key</th>\n",
       "      <th>loudness</th>\n",
       "      <th>mode</th>\n",
       "      <th>speechiness</th>\n",
       "      <th>acousticness</th>\n",
       "      <th>instrumentalness</th>\n",
       "      <th>liveness</th>\n",
       "      <th>valence</th>\n",
       "      <th>tempo</th>\n",
       "      <th>duration_ms</th>\n",
       "      <th>time_signature</th>\n",
       "    </tr>\n",
       "  </thead>\n",
       "  <tbody>\n",
       "    <tr>\n",
       "      <th>0</th>\n",
       "      <td>99</td>\n",
       "      <td>Bad Bunny</td>\n",
       "      <td>Me Porto Bonito</td>\n",
       "      <td>6Sq7ltF9Qa7SNFBsV5Cogx</td>\n",
       "      <td>0.911</td>\n",
       "      <td>0.712</td>\n",
       "      <td>1</td>\n",
       "      <td>-5.105</td>\n",
       "      <td>0</td>\n",
       "      <td>0.0817</td>\n",
       "      <td>0.09010</td>\n",
       "      <td>0.000027</td>\n",
       "      <td>0.0933</td>\n",
       "      <td>0.425</td>\n",
       "      <td>92.005</td>\n",
       "      <td>178567</td>\n",
       "      <td>4</td>\n",
       "    </tr>\n",
       "    <tr>\n",
       "      <th>1</th>\n",
       "      <td>20</td>\n",
       "      <td>Ish Kevin</td>\n",
       "      <td>My Year (2022)</td>\n",
       "      <td>4eHkG6yWQ4pD0zqVkV0R5a</td>\n",
       "      <td>0.521</td>\n",
       "      <td>0.683</td>\n",
       "      <td>5</td>\n",
       "      <td>-6.240</td>\n",
       "      <td>0</td>\n",
       "      <td>0.5010</td>\n",
       "      <td>0.15900</td>\n",
       "      <td>0.000000</td>\n",
       "      <td>0.1870</td>\n",
       "      <td>0.737</td>\n",
       "      <td>139.439</td>\n",
       "      <td>161808</td>\n",
       "      <td>3</td>\n",
       "    </tr>\n",
       "    <tr>\n",
       "      <th>2</th>\n",
       "      <td>84</td>\n",
       "      <td>Calvin Harris</td>\n",
       "      <td>Potion (with Dua Lipa &amp; Young Thug)</td>\n",
       "      <td>7fYRg3CEbk6rNCuzNzMT06</td>\n",
       "      <td>0.824</td>\n",
       "      <td>0.697</td>\n",
       "      <td>11</td>\n",
       "      <td>-4.869</td>\n",
       "      <td>0</td>\n",
       "      <td>0.0473</td>\n",
       "      <td>0.15800</td>\n",
       "      <td>0.000041</td>\n",
       "      <td>0.0770</td>\n",
       "      <td>0.757</td>\n",
       "      <td>99.988</td>\n",
       "      <td>214460</td>\n",
       "      <td>4</td>\n",
       "    </tr>\n",
       "    <tr>\n",
       "      <th>3</th>\n",
       "      <td>0</td>\n",
       "      <td>Avicii</td>\n",
       "      <td>Street Dancer - Sgt Slick's Discotizer 2022 Remix</td>\n",
       "      <td>6m5Pu0B2YVPR8BkrbKvHuE</td>\n",
       "      <td>0.658</td>\n",
       "      <td>0.935</td>\n",
       "      <td>2</td>\n",
       "      <td>-6.030</td>\n",
       "      <td>0</td>\n",
       "      <td>0.0679</td>\n",
       "      <td>0.00948</td>\n",
       "      <td>0.670000</td>\n",
       "      <td>0.0536</td>\n",
       "      <td>0.919</td>\n",
       "      <td>124.006</td>\n",
       "      <td>173161</td>\n",
       "      <td>4</td>\n",
       "    </tr>\n",
       "    <tr>\n",
       "      <th>4</th>\n",
       "      <td>91</td>\n",
       "      <td>Steve Lacy</td>\n",
       "      <td>Bad Habit</td>\n",
       "      <td>5CM4UuQ9Gnd6K2YyKGPMoK</td>\n",
       "      <td>0.686</td>\n",
       "      <td>0.507</td>\n",
       "      <td>1</td>\n",
       "      <td>-7.097</td>\n",
       "      <td>1</td>\n",
       "      <td>0.0357</td>\n",
       "      <td>0.62600</td>\n",
       "      <td>0.000075</td>\n",
       "      <td>0.3830</td>\n",
       "      <td>0.690</td>\n",
       "      <td>168.955</td>\n",
       "      <td>232115</td>\n",
       "      <td>4</td>\n",
       "    </tr>\n",
       "  </tbody>\n",
       "</table>\n",
       "</div>"
      ],
      "text/plain": [
       "   popularity    artist_name  \\\n",
       "0          99      Bad Bunny   \n",
       "1          20      Ish Kevin   \n",
       "2          84  Calvin Harris   \n",
       "3           0         Avicii   \n",
       "4          91     Steve Lacy   \n",
       "\n",
       "                                          track_name                track_id  \\\n",
       "0                                    Me Porto Bonito  6Sq7ltF9Qa7SNFBsV5Cogx   \n",
       "1                                     My Year (2022)  4eHkG6yWQ4pD0zqVkV0R5a   \n",
       "2                Potion (with Dua Lipa & Young Thug)  7fYRg3CEbk6rNCuzNzMT06   \n",
       "3  Street Dancer - Sgt Slick's Discotizer 2022 Remix  6m5Pu0B2YVPR8BkrbKvHuE   \n",
       "4                                          Bad Habit  5CM4UuQ9Gnd6K2YyKGPMoK   \n",
       "\n",
       "   danceability  energy  key  loudness  mode  speechiness  acousticness  \\\n",
       "0         0.911   0.712    1    -5.105     0       0.0817       0.09010   \n",
       "1         0.521   0.683    5    -6.240     0       0.5010       0.15900   \n",
       "2         0.824   0.697   11    -4.869     0       0.0473       0.15800   \n",
       "3         0.658   0.935    2    -6.030     0       0.0679       0.00948   \n",
       "4         0.686   0.507    1    -7.097     1       0.0357       0.62600   \n",
       "\n",
       "   instrumentalness  liveness  valence    tempo  duration_ms  time_signature  \n",
       "0          0.000027    0.0933    0.425   92.005       178567               4  \n",
       "1          0.000000    0.1870    0.737  139.439       161808               3  \n",
       "2          0.000041    0.0770    0.757   99.988       214460               4  \n",
       "3          0.670000    0.0536    0.919  124.006       173161               4  \n",
       "4          0.000075    0.3830    0.690  168.955       232115               4  "
      ]
     },
     "execution_count": 9,
     "metadata": {},
     "output_type": "execute_result"
    }
   ],
   "source": [
    "df = pd.merge(df_tracks,df_audio_features,on='track_id',how='inner')\n",
    "print(\"Shape of the dataset:\", df_audio_features.shape)\n",
    "df.head()"
   ]
  },
  {
   "cell_type": "code",
   "execution_count": 10,
   "id": "3c830cfa-04c1-4ad9-b370-6661ffdb2cf6",
   "metadata": {},
   "outputs": [
    {
     "name": "stdout",
     "output_type": "stream",
     "text": [
      "<class 'pandas.core.frame.DataFrame'>\n",
      "Int64Index: 950 entries, 0 to 949\n",
      "Data columns (total 17 columns):\n",
      " #   Column            Non-Null Count  Dtype  \n",
      "---  ------            --------------  -----  \n",
      " 0   popularity        950 non-null    int64  \n",
      " 1   artist_name       950 non-null    object \n",
      " 2   track_name        950 non-null    object \n",
      " 3   track_id          950 non-null    object \n",
      " 4   danceability      950 non-null    float64\n",
      " 5   energy            950 non-null    float64\n",
      " 6   key               950 non-null    int64  \n",
      " 7   loudness          950 non-null    float64\n",
      " 8   mode              950 non-null    int64  \n",
      " 9   speechiness       950 non-null    float64\n",
      " 10  acousticness      950 non-null    float64\n",
      " 11  instrumentalness  950 non-null    float64\n",
      " 12  liveness          950 non-null    float64\n",
      " 13  valence           950 non-null    float64\n",
      " 14  tempo             950 non-null    float64\n",
      " 15  duration_ms       950 non-null    int64  \n",
      " 16  time_signature    950 non-null    int64  \n",
      "dtypes: float64(9), int64(5), object(3)\n",
      "memory usage: 133.6+ KB\n"
     ]
    }
   ],
   "source": [
    "df.info()"
   ]
  },
  {
   "cell_type": "code",
   "execution_count": 11,
   "id": "49e98d29-9b0c-4817-b18f-b556c181fadc",
   "metadata": {},
   "outputs": [
    {
     "data": {
      "text/html": [
       "<div>\n",
       "<style scoped>\n",
       "    .dataframe tbody tr th:only-of-type {\n",
       "        vertical-align: middle;\n",
       "    }\n",
       "\n",
       "    .dataframe tbody tr th {\n",
       "        vertical-align: top;\n",
       "    }\n",
       "\n",
       "    .dataframe thead th {\n",
       "        text-align: right;\n",
       "    }\n",
       "</style>\n",
       "<table border=\"1\" class=\"dataframe\">\n",
       "  <thead>\n",
       "    <tr style=\"text-align: right;\">\n",
       "      <th></th>\n",
       "      <th>popularity</th>\n",
       "      <th>artist_name</th>\n",
       "      <th>track_name</th>\n",
       "      <th>track_id</th>\n",
       "      <th>danceability</th>\n",
       "      <th>energy</th>\n",
       "      <th>key</th>\n",
       "      <th>loudness</th>\n",
       "      <th>mode</th>\n",
       "      <th>speechiness</th>\n",
       "      <th>acousticness</th>\n",
       "      <th>instrumentalness</th>\n",
       "      <th>liveness</th>\n",
       "      <th>valence</th>\n",
       "      <th>tempo</th>\n",
       "      <th>duration_ms</th>\n",
       "      <th>time_signature</th>\n",
       "    </tr>\n",
       "  </thead>\n",
       "  <tbody>\n",
       "  </tbody>\n",
       "</table>\n",
       "</div>"
      ],
      "text/plain": [
       "Empty DataFrame\n",
       "Columns: [popularity, artist_name, track_name, track_id, danceability, energy, key, loudness, mode, speechiness, acousticness, instrumentalness, liveness, valence, tempo, duration_ms, time_signature]\n",
       "Index: []"
      ]
     },
     "execution_count": 11,
     "metadata": {},
     "output_type": "execute_result"
    }
   ],
   "source": [
    "df[df.duplicated(subset=['artist_name','track_name'],keep=False)]"
   ]
  },
  {
   "cell_type": "code",
   "execution_count": 14,
   "id": "65c5b0c6-61ef-4f8a-882d-dced9d14f548",
   "metadata": {},
   "outputs": [],
   "source": [
    "df.to_csv('SpotifyAudioFeatures2022.csv')"
   ]
  },
  {
   "cell_type": "code",
   "execution_count": null,
   "id": "1f7d6b8d-b6db-4988-be78-1dd831f56a30",
   "metadata": {},
   "outputs": [],
   "source": []
  }
 ],
 "metadata": {
  "kernelspec": {
   "display_name": "Python 3 (ipykernel)",
   "language": "python",
   "name": "python3"
  },
  "language_info": {
   "codemirror_mode": {
    "name": "ipython",
    "version": 3
   },
   "file_extension": ".py",
   "mimetype": "text/x-python",
   "name": "python",
   "nbconvert_exporter": "python",
   "pygments_lexer": "ipython3",
   "version": "3.9.6"
  },
  "vscode": {
   "interpreter": {
    "hash": "8f939dc046ae95b61db57b1ddfb635e5199eac9f7bf30422bfd106b8f44dc254"
   }
  }
 },
 "nbformat": 4,
 "nbformat_minor": 5
}
