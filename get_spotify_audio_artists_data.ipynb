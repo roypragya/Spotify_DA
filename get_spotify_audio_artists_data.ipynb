{
 "cells": [
  {
   "cell_type": "code",
   "execution_count": 1,
   "id": "113ccc73-fc79-4009-87fe-29fdc63f9d0d",
   "metadata": {},
   "outputs": [
    {
     "name": "stdout",
     "output_type": "stream",
     "text": [
      "(550, 5)\n"
     ]
    },
    {
     "data": {
      "text/html": [
       "<div>\n",
       "<style scoped>\n",
       "    .dataframe tbody tr th:only-of-type {\n",
       "        vertical-align: middle;\n",
       "    }\n",
       "\n",
       "    .dataframe tbody tr th {\n",
       "        vertical-align: top;\n",
       "    }\n",
       "\n",
       "    .dataframe thead th {\n",
       "        text-align: right;\n",
       "    }\n",
       "</style>\n",
       "<table border=\"1\" class=\"dataframe\">\n",
       "  <thead>\n",
       "    <tr style=\"text-align: right;\">\n",
       "      <th></th>\n",
       "      <th>popularity</th>\n",
       "      <th>artist_name</th>\n",
       "      <th>genres</th>\n",
       "      <th>artist_id</th>\n",
       "      <th>followers</th>\n",
       "    </tr>\n",
       "  </thead>\n",
       "  <tbody>\n",
       "    <tr>\n",
       "      <th>0</th>\n",
       "      <td>95</td>\n",
       "      <td>Drake</td>\n",
       "      <td>[canadian hip hop, canadian pop, hip hop, rap,...</td>\n",
       "      <td>3TVXtAsR1Inumwj472S9r4</td>\n",
       "      <td>66742159</td>\n",
       "    </tr>\n",
       "    <tr>\n",
       "      <th>1</th>\n",
       "      <td>0</td>\n",
       "      <td>New Year 2022</td>\n",
       "      <td>[]</td>\n",
       "      <td>2rUWfbZCCd8S9MBe0aUmfG</td>\n",
       "      <td>256</td>\n",
       "    </tr>\n",
       "    <tr>\n",
       "      <th>2</th>\n",
       "      <td>35</td>\n",
       "      <td>Caster</td>\n",
       "      <td>[dubstep, melodic dubstep]</td>\n",
       "      <td>4z7OnrBHTHdfpjNKl7NGox</td>\n",
       "      <td>6467</td>\n",
       "    </tr>\n",
       "    <tr>\n",
       "      <th>3</th>\n",
       "      <td>0</td>\n",
       "      <td>Happy New Year 2022</td>\n",
       "      <td>[]</td>\n",
       "      <td>54gegSRhj9UpbwYBmwLbnC</td>\n",
       "      <td>94</td>\n",
       "    </tr>\n",
       "    <tr>\n",
       "      <th>4</th>\n",
       "      <td>100</td>\n",
       "      <td>Bad Bunny</td>\n",
       "      <td>[latin, reggaeton, trap latino]</td>\n",
       "      <td>4q3ewBCX7sLwd24euuV69X</td>\n",
       "      <td>54357496</td>\n",
       "    </tr>\n",
       "  </tbody>\n",
       "</table>\n",
       "</div>"
      ],
      "text/plain": [
       "   popularity          artist_name  \\\n",
       "0          95                Drake   \n",
       "1           0        New Year 2022   \n",
       "2          35               Caster   \n",
       "3           0  Happy New Year 2022   \n",
       "4         100            Bad Bunny   \n",
       "\n",
       "                                              genres               artist_id  \\\n",
       "0  [canadian hip hop, canadian pop, hip hop, rap,...  3TVXtAsR1Inumwj472S9r4   \n",
       "1                                                 []  2rUWfbZCCd8S9MBe0aUmfG   \n",
       "2                         [dubstep, melodic dubstep]  4z7OnrBHTHdfpjNKl7NGox   \n",
       "3                                                 []  54gegSRhj9UpbwYBmwLbnC   \n",
       "4                    [latin, reggaeton, trap latino]  4q3ewBCX7sLwd24euuV69X   \n",
       "\n",
       "   followers  \n",
       "0   66742159  \n",
       "1        256  \n",
       "2       6467  \n",
       "3         94  \n",
       "4   54357496  "
      ]
     },
     "execution_count": 1,
     "metadata": {},
     "output_type": "execute_result"
    }
   ],
   "source": [
    "import pandas as pd\n",
    "import spotipy \n",
    "from spotipy.oauth2 import SpotifyClientCredentials \n",
    "cid =\"5cf7fd8a74434b4aa2243cd27dc0e490\" \n",
    "secret = \"033870832e60454b8c23e5e7a56b4280\" \n",
    "client_credentials_manager = SpotifyClientCredentials(client_id=cid, client_secret=secret) \n",
    "sp = spotipy.Spotify(client_credentials_manager=client_credentials_manager)\n",
    "\n",
    "followers = []\n",
    "genres = []\n",
    "artist_name = []\n",
    "artist_id = []\n",
    "popularity = []\n",
    "for i in range(0,1000,50): \n",
    "    artist_results = sp.search(q='year:2022', type='artist', limit=50,offset=i) \n",
    "    for i, t in enumerate(artist_results['artists']['items']):\n",
    "           artist_name.append(t['name']) \n",
    "           followers.append(t['followers']['total']) \n",
    "           artist_id.append(t['id']) \n",
    "           popularity.append(t['popularity'])\n",
    "           genres.append(t['genres'])\n",
    "\n",
    "\n",
    "df_artists = pd.DataFrame({'popularity':popularity,'artist_name':artist_name,'genres':genres,'artist_id':artist_id,'followers':followers})\n",
    "\n",
    "print(df_artists.shape)\n",
    "df_artists.head()"
   ]
  },
  {
   "cell_type": "code",
   "execution_count": 2,
   "id": "b6131b06-7f52-426c-b4b2-d36f96e54545",
   "metadata": {},
   "outputs": [
    {
     "data": {
      "text/plain": [
       "41"
      ]
     },
     "execution_count": 2,
     "metadata": {},
     "output_type": "execute_result"
    }
   ],
   "source": [
    "grouped = df_artists.groupby(['artist_name'], as_index=True).size()\n",
    "grouped[grouped > 1].count()"
   ]
  },
  {
   "cell_type": "code",
   "execution_count": 3,
   "id": "5bbb7811-b0fb-492d-82b0-b854000dfab6",
   "metadata": {},
   "outputs": [],
   "source": [
    "df_artists.drop_duplicates(subset=['artist_name'], inplace=True)"
   ]
  },
  {
   "cell_type": "code",
   "execution_count": 4,
   "id": "dfa93428-f684-4533-afc0-5c4018753c63",
   "metadata": {},
   "outputs": [
    {
     "data": {
      "text/plain": [
       "0"
      ]
     },
     "execution_count": 4,
     "metadata": {},
     "output_type": "execute_result"
    }
   ],
   "source": [
    "grouped = df_artists.groupby(['artist_name'], as_index=True).size()\n",
    "grouped[grouped > 1].count()"
   ]
  },
  {
   "cell_type": "code",
   "execution_count": 5,
   "id": "9c4464a7-3d37-4e3b-9fbb-4376bc1b7ee6",
   "metadata": {},
   "outputs": [
    {
     "data": {
      "text/plain": [
       "(507, 5)"
      ]
     },
     "execution_count": 5,
     "metadata": {},
     "output_type": "execute_result"
    }
   ],
   "source": [
    "df_artists.shape"
   ]
  },
  {
   "cell_type": "code",
   "execution_count": 6,
   "id": "7007c3b7-7ab3-478b-af5d-42ae7f175e00",
   "metadata": {},
   "outputs": [],
   "source": [
    "df_artists.to_csv('SpotifyArtists2022.csv')"
   ]
  },
  {
   "cell_type": "code",
   "execution_count": null,
   "id": "04a157b4-04ae-4295-9677-eb79d0815610",
   "metadata": {},
   "outputs": [],
   "source": []
  }
 ],
 "metadata": {
  "kernelspec": {
   "display_name": "Python 3 (ipykernel)",
   "language": "python",
   "name": "python3"
  },
  "language_info": {
   "codemirror_mode": {
    "name": "ipython",
    "version": 3
   },
   "file_extension": ".py",
   "mimetype": "text/x-python",
   "name": "python",
   "nbconvert_exporter": "python",
   "pygments_lexer": "ipython3",
   "version": "3.9.6"
  }
 },
 "nbformat": 4,
 "nbformat_minor": 5
}
