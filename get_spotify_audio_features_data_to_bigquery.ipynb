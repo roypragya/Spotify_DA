{
 "cells": [
  {
   "cell_type": "code",
   "execution_count": 1,
   "id": "a4627e54-903a-4190-b72e-6ea5bd643f25",
   "metadata": {},
   "outputs": [
    {
     "name": "stdout",
     "output_type": "stream",
     "text": [
      "(1000, 4)\n"
     ]
    },
    {
     "data": {
      "text/plain": [
       "13"
      ]
     },
     "execution_count": 1,
     "metadata": {},
     "output_type": "execute_result"
    }
   ],
   "source": [
    "import pandas as pd\n",
    "import spotipy \n",
    "from spotipy.oauth2 import SpotifyClientCredentials \n",
    "cid =\"5cf7fd8a74434b4aa2243cd27dc0e490\" \n",
    "secret = \"033870832e60454b8c23e5e7a56b4280\" \n",
    "client_credentials_manager = SpotifyClientCredentials(client_id=cid, client_secret=secret) \n",
    "sp = spotipy.Spotify(client_credentials_manager=client_credentials_manager)\n",
    "\n",
    "artist_name = []\n",
    "track_name = []\n",
    "popularity = []\n",
    "track_id = []\n",
    "for i in range(0,1000,50): \n",
    "    track_results = sp.search(q='year:2018', type='track', limit=50,offset=i) \n",
    "    for i, t in enumerate(track_results['tracks']['items']):\n",
    "           artist_name.append(t['artists'][0]['name']) \n",
    "           track_name.append(t['name']) \n",
    "           track_id.append(t['id']) \n",
    "           popularity.append(t['popularity'])\n",
    "\n",
    "\n",
    "df_tracks = pd.DataFrame({'popularity':popularity,'artist_name':artist_name,'track_name':track_name,'track_id':track_id})\n",
    "# df_tracks = df_tracks.sort_values('popularity', ascending=False)\n",
    "print(df_tracks.shape)\n",
    "df_tracks.head()\n",
    "\n",
    "grouped = df_tracks.groupby(['artist_name','track_name'], as_index=True).size()\n",
    "grouped[grouped > 1].count()"
   ]
  },
  {
   "cell_type": "code",
   "execution_count": 2,
   "id": "bccd28c4-de62-4a1a-ade1-e48885d3a826",
   "metadata": {},
   "outputs": [],
   "source": [
    "df_tracks.drop_duplicates(subset=['artist_name','track_name'], inplace=True)"
   ]
  },
  {
   "cell_type": "code",
   "execution_count": 3,
   "id": "d9af9bfa-bfc3-4eb1-82bc-6fb04b574689",
   "metadata": {},
   "outputs": [
    {
     "data": {
      "text/plain": [
       "0"
      ]
     },
     "execution_count": 3,
     "metadata": {},
     "output_type": "execute_result"
    }
   ],
   "source": [
    "grouped_after_dropping = df_tracks.groupby(['artist_name','track_name'], as_index=True).size()\n",
    "grouped_after_dropping[grouped_after_dropping > 1].count()"
   ]
  },
  {
   "cell_type": "code",
   "execution_count": 4,
   "id": "b09594dd-f192-4a08-9328-4d7e77b73490",
   "metadata": {},
   "outputs": [
    {
     "data": {
      "text/plain": [
       "(987, 4)"
      ]
     },
     "execution_count": 4,
     "metadata": {},
     "output_type": "execute_result"
    }
   ],
   "source": [
    "df_tracks.shape"
   ]
  },
  {
   "cell_type": "code",
   "execution_count": 5,
   "id": "40a45114-197b-489f-b73a-632fdc2662cc",
   "metadata": {},
   "outputs": [
    {
     "name": "stdout",
     "output_type": "stream",
     "text": [
      "Number of tracks where no audio features were available: 0\n"
     ]
    }
   ],
   "source": [
    "rows = []\n",
    "batchsize = 100\n",
    "None_counter = 0\n",
    "\n",
    "for i in range(0,len(df_tracks['track_id']),batchsize):\n",
    "    batch = df_tracks['track_id'][i:i+batchsize]\n",
    "    feature_results = sp.audio_features(batch)\n",
    "    for i, t in enumerate(feature_results):\n",
    "        if t == None:\n",
    "            None_counter = None_counter + 1\n",
    "        else:\n",
    "            rows.append(t)\n",
    "            \n",
    "print('Number of tracks where no audio features were available:',None_counter)"
   ]
  },
  {
   "cell_type": "code",
   "execution_count": 6,
   "id": "7fd80b8e-7b74-4a91-82b4-35a01803bca2",
   "metadata": {},
   "outputs": [
    {
     "name": "stdout",
     "output_type": "stream",
     "text": [
      "Shape of the dataset: (987, 18)\n"
     ]
    },
    {
     "data": {
      "text/html": [
       "<div>\n",
       "<style scoped>\n",
       "    .dataframe tbody tr th:only-of-type {\n",
       "        vertical-align: middle;\n",
       "    }\n",
       "\n",
       "    .dataframe tbody tr th {\n",
       "        vertical-align: top;\n",
       "    }\n",
       "\n",
       "    .dataframe thead th {\n",
       "        text-align: right;\n",
       "    }\n",
       "</style>\n",
       "<table border=\"1\" class=\"dataframe\">\n",
       "  <thead>\n",
       "    <tr style=\"text-align: right;\">\n",
       "      <th></th>\n",
       "      <th>danceability</th>\n",
       "      <th>energy</th>\n",
       "      <th>key</th>\n",
       "      <th>loudness</th>\n",
       "      <th>mode</th>\n",
       "      <th>speechiness</th>\n",
       "      <th>acousticness</th>\n",
       "      <th>instrumentalness</th>\n",
       "      <th>liveness</th>\n",
       "      <th>valence</th>\n",
       "      <th>tempo</th>\n",
       "      <th>type</th>\n",
       "      <th>id</th>\n",
       "      <th>uri</th>\n",
       "      <th>track_href</th>\n",
       "      <th>analysis_url</th>\n",
       "      <th>duration_ms</th>\n",
       "      <th>time_signature</th>\n",
       "    </tr>\n",
       "  </thead>\n",
       "  <tbody>\n",
       "    <tr>\n",
       "      <th>0</th>\n",
       "      <td>0.614</td>\n",
       "      <td>0.6800</td>\n",
       "      <td>6</td>\n",
       "      <td>-4.580</td>\n",
       "      <td>1</td>\n",
       "      <td>0.0289</td>\n",
       "      <td>0.3690</td>\n",
       "      <td>0.000002</td>\n",
       "      <td>0.115</td>\n",
       "      <td>0.707</td>\n",
       "      <td>149.959</td>\n",
       "      <td>audio_features</td>\n",
       "      <td>6foY66mWZN0pSRjZ408c00</td>\n",
       "      <td>spotify:track:6foY66mWZN0pSRjZ408c00</td>\n",
       "      <td>https://api.spotify.com/v1/tracks/6foY66mWZN0p...</td>\n",
       "      <td>https://api.spotify.com/v1/audio-analysis/6foY...</td>\n",
       "      <td>234347</td>\n",
       "      <td>4</td>\n",
       "    </tr>\n",
       "    <tr>\n",
       "      <th>1</th>\n",
       "      <td>0.314</td>\n",
       "      <td>0.0855</td>\n",
       "      <td>9</td>\n",
       "      <td>-15.775</td>\n",
       "      <td>1</td>\n",
       "      <td>0.0342</td>\n",
       "      <td>0.9690</td>\n",
       "      <td>0.795000</td>\n",
       "      <td>0.160</td>\n",
       "      <td>0.161</td>\n",
       "      <td>69.893</td>\n",
       "      <td>audio_features</td>\n",
       "      <td>0UsmyJDsst2xhX1ZiFF3JW</td>\n",
       "      <td>spotify:track:0UsmyJDsst2xhX1ZiFF3JW</td>\n",
       "      <td>https://api.spotify.com/v1/tracks/0UsmyJDsst2x...</td>\n",
       "      <td>https://api.spotify.com/v1/audio-analysis/0Usm...</td>\n",
       "      <td>74302</td>\n",
       "      <td>3</td>\n",
       "    </tr>\n",
       "    <tr>\n",
       "      <th>2</th>\n",
       "      <td>0.515</td>\n",
       "      <td>0.4790</td>\n",
       "      <td>3</td>\n",
       "      <td>-7.458</td>\n",
       "      <td>1</td>\n",
       "      <td>0.0261</td>\n",
       "      <td>0.5440</td>\n",
       "      <td>0.005980</td>\n",
       "      <td>0.191</td>\n",
       "      <td>0.284</td>\n",
       "      <td>88.964</td>\n",
       "      <td>audio_features</td>\n",
       "      <td>0rKtyWc8bvkriBthvHKY8d</td>\n",
       "      <td>spotify:track:0rKtyWc8bvkriBthvHKY8d</td>\n",
       "      <td>https://api.spotify.com/v1/tracks/0rKtyWc8bvkr...</td>\n",
       "      <td>https://api.spotify.com/v1/audio-analysis/0rKt...</td>\n",
       "      <td>209274</td>\n",
       "      <td>4</td>\n",
       "    </tr>\n",
       "    <tr>\n",
       "      <th>3</th>\n",
       "      <td>0.684</td>\n",
       "      <td>0.6380</td>\n",
       "      <td>9</td>\n",
       "      <td>-9.025</td>\n",
       "      <td>0</td>\n",
       "      <td>0.0312</td>\n",
       "      <td>0.3650</td>\n",
       "      <td>0.020700</td>\n",
       "      <td>0.119</td>\n",
       "      <td>0.810</td>\n",
       "      <td>129.959</td>\n",
       "      <td>audio_features</td>\n",
       "      <td>4fbwTO3DJ2qryMddov9RbB</td>\n",
       "      <td>spotify:track:4fbwTO3DJ2qryMddov9RbB</td>\n",
       "      <td>https://api.spotify.com/v1/tracks/4fbwTO3DJ2qr...</td>\n",
       "      <td>https://api.spotify.com/v1/audio-analysis/4fbw...</td>\n",
       "      <td>226773</td>\n",
       "      <td>4</td>\n",
       "    </tr>\n",
       "    <tr>\n",
       "      <th>4</th>\n",
       "      <td>0.897</td>\n",
       "      <td>0.6620</td>\n",
       "      <td>1</td>\n",
       "      <td>-6.903</td>\n",
       "      <td>0</td>\n",
       "      <td>0.2920</td>\n",
       "      <td>0.0852</td>\n",
       "      <td>0.000000</td>\n",
       "      <td>0.534</td>\n",
       "      <td>0.389</td>\n",
       "      <td>112.511</td>\n",
       "      <td>audio_features</td>\n",
       "      <td>78QR3Wp35dqAhFEc2qAGjE</td>\n",
       "      <td>spotify:track:78QR3Wp35dqAhFEc2qAGjE</td>\n",
       "      <td>https://api.spotify.com/v1/tracks/78QR3Wp35dqA...</td>\n",
       "      <td>https://api.spotify.com/v1/audio-analysis/78QR...</td>\n",
       "      <td>145543</td>\n",
       "      <td>4</td>\n",
       "    </tr>\n",
       "  </tbody>\n",
       "</table>\n",
       "</div>"
      ],
      "text/plain": [
       "   danceability  energy  key  loudness  mode  speechiness  acousticness  \\\n",
       "0         0.614  0.6800    6    -4.580     1       0.0289        0.3690   \n",
       "1         0.314  0.0855    9   -15.775     1       0.0342        0.9690   \n",
       "2         0.515  0.4790    3    -7.458     1       0.0261        0.5440   \n",
       "3         0.684  0.6380    9    -9.025     0       0.0312        0.3650   \n",
       "4         0.897  0.6620    1    -6.903     0       0.2920        0.0852   \n",
       "\n",
       "   instrumentalness  liveness  valence    tempo            type  \\\n",
       "0          0.000002     0.115    0.707  149.959  audio_features   \n",
       "1          0.795000     0.160    0.161   69.893  audio_features   \n",
       "2          0.005980     0.191    0.284   88.964  audio_features   \n",
       "3          0.020700     0.119    0.810  129.959  audio_features   \n",
       "4          0.000000     0.534    0.389  112.511  audio_features   \n",
       "\n",
       "                       id                                   uri  \\\n",
       "0  6foY66mWZN0pSRjZ408c00  spotify:track:6foY66mWZN0pSRjZ408c00   \n",
       "1  0UsmyJDsst2xhX1ZiFF3JW  spotify:track:0UsmyJDsst2xhX1ZiFF3JW   \n",
       "2  0rKtyWc8bvkriBthvHKY8d  spotify:track:0rKtyWc8bvkriBthvHKY8d   \n",
       "3  4fbwTO3DJ2qryMddov9RbB  spotify:track:4fbwTO3DJ2qryMddov9RbB   \n",
       "4  78QR3Wp35dqAhFEc2qAGjE  spotify:track:78QR3Wp35dqAhFEc2qAGjE   \n",
       "\n",
       "                                          track_href  \\\n",
       "0  https://api.spotify.com/v1/tracks/6foY66mWZN0p...   \n",
       "1  https://api.spotify.com/v1/tracks/0UsmyJDsst2x...   \n",
       "2  https://api.spotify.com/v1/tracks/0rKtyWc8bvkr...   \n",
       "3  https://api.spotify.com/v1/tracks/4fbwTO3DJ2qr...   \n",
       "4  https://api.spotify.com/v1/tracks/78QR3Wp35dqA...   \n",
       "\n",
       "                                        analysis_url  duration_ms  \\\n",
       "0  https://api.spotify.com/v1/audio-analysis/6foY...       234347   \n",
       "1  https://api.spotify.com/v1/audio-analysis/0Usm...        74302   \n",
       "2  https://api.spotify.com/v1/audio-analysis/0rKt...       209274   \n",
       "3  https://api.spotify.com/v1/audio-analysis/4fbw...       226773   \n",
       "4  https://api.spotify.com/v1/audio-analysis/78QR...       145543   \n",
       "\n",
       "   time_signature  \n",
       "0               4  \n",
       "1               3  \n",
       "2               4  \n",
       "3               4  \n",
       "4               4  "
      ]
     },
     "execution_count": 6,
     "metadata": {},
     "output_type": "execute_result"
    }
   ],
   "source": [
    "df_audio_features = pd.DataFrame.from_dict(rows,orient='columns')\n",
    "print(\"Shape of the dataset:\", df_audio_features.shape)\n",
    "df_audio_features.head()"
   ]
  },
  {
   "cell_type": "code",
   "execution_count": 7,
   "id": "4f6c04b8-0ab3-4f30-bfbb-974595e974de",
   "metadata": {},
   "outputs": [
    {
     "name": "stdout",
     "output_type": "stream",
     "text": [
      "<class 'pandas.core.frame.DataFrame'>\n",
      "RangeIndex: 987 entries, 0 to 986\n",
      "Data columns (total 18 columns):\n",
      " #   Column            Non-Null Count  Dtype  \n",
      "---  ------            --------------  -----  \n",
      " 0   danceability      987 non-null    float64\n",
      " 1   energy            987 non-null    float64\n",
      " 2   key               987 non-null    int64  \n",
      " 3   loudness          987 non-null    float64\n",
      " 4   mode              987 non-null    int64  \n",
      " 5   speechiness       987 non-null    float64\n",
      " 6   acousticness      987 non-null    float64\n",
      " 7   instrumentalness  987 non-null    float64\n",
      " 8   liveness          987 non-null    float64\n",
      " 9   valence           987 non-null    float64\n",
      " 10  tempo             987 non-null    float64\n",
      " 11  type              987 non-null    object \n",
      " 12  id                987 non-null    object \n",
      " 13  uri               987 non-null    object \n",
      " 14  track_href        987 non-null    object \n",
      " 15  analysis_url      987 non-null    object \n",
      " 16  duration_ms       987 non-null    int64  \n",
      " 17  time_signature    987 non-null    int64  \n",
      "dtypes: float64(9), int64(4), object(5)\n",
      "memory usage: 138.9+ KB\n"
     ]
    }
   ],
   "source": [
    "df_audio_features.info()"
   ]
  },
  {
   "cell_type": "code",
   "execution_count": 8,
   "id": "002118e7-b2f6-48ad-9cd0-261e989ee866",
   "metadata": {},
   "outputs": [
    {
     "data": {
      "text/plain": [
       "(987, 14)"
      ]
     },
     "execution_count": 8,
     "metadata": {},
     "output_type": "execute_result"
    }
   ],
   "source": [
    "columns_to_drop = ['analysis_url','track_href','type','uri']\n",
    "df_audio_features.drop(columns_to_drop, axis=1,inplace=True)\n",
    "\n",
    "df_audio_features.rename(columns={'id': 'track_id'}, inplace=True)\n",
    "\n",
    "df_audio_features.shape"
   ]
  },
  {
   "cell_type": "code",
   "execution_count": 9,
   "id": "9612ff1a-7ae6-4188-9008-a0d2b4d7adec",
   "metadata": {},
   "outputs": [
    {
     "name": "stdout",
     "output_type": "stream",
     "text": [
      "Shape of the dataset: (987, 14)\n"
     ]
    },
    {
     "data": {
      "text/html": [
       "<div>\n",
       "<style scoped>\n",
       "    .dataframe tbody tr th:only-of-type {\n",
       "        vertical-align: middle;\n",
       "    }\n",
       "\n",
       "    .dataframe tbody tr th {\n",
       "        vertical-align: top;\n",
       "    }\n",
       "\n",
       "    .dataframe thead th {\n",
       "        text-align: right;\n",
       "    }\n",
       "</style>\n",
       "<table border=\"1\" class=\"dataframe\">\n",
       "  <thead>\n",
       "    <tr style=\"text-align: right;\">\n",
       "      <th></th>\n",
       "      <th>popularity</th>\n",
       "      <th>artist_name</th>\n",
       "      <th>track_name</th>\n",
       "      <th>track_id</th>\n",
       "      <th>danceability</th>\n",
       "      <th>energy</th>\n",
       "      <th>key</th>\n",
       "      <th>loudness</th>\n",
       "      <th>mode</th>\n",
       "      <th>speechiness</th>\n",
       "      <th>acousticness</th>\n",
       "      <th>instrumentalness</th>\n",
       "      <th>liveness</th>\n",
       "      <th>valence</th>\n",
       "      <th>tempo</th>\n",
       "      <th>duration_ms</th>\n",
       "      <th>time_signature</th>\n",
       "    </tr>\n",
       "  </thead>\n",
       "  <tbody>\n",
       "    <tr>\n",
       "      <th>0</th>\n",
       "      <td>81</td>\n",
       "      <td>Morgan Wallen</td>\n",
       "      <td>Whiskey Glasses</td>\n",
       "      <td>6foY66mWZN0pSRjZ408c00</td>\n",
       "      <td>0.614</td>\n",
       "      <td>0.6800</td>\n",
       "      <td>6</td>\n",
       "      <td>-4.580</td>\n",
       "      <td>1</td>\n",
       "      <td>0.0289</td>\n",
       "      <td>0.3690</td>\n",
       "      <td>0.000002</td>\n",
       "      <td>0.115</td>\n",
       "      <td>0.707</td>\n",
       "      <td>149.959</td>\n",
       "      <td>234347</td>\n",
       "      <td>4</td>\n",
       "    </tr>\n",
       "    <tr>\n",
       "      <th>1</th>\n",
       "      <td>24</td>\n",
       "      <td>Schoolgirl Byebye</td>\n",
       "      <td>Year,2015</td>\n",
       "      <td>0UsmyJDsst2xhX1ZiFF3JW</td>\n",
       "      <td>0.314</td>\n",
       "      <td>0.0855</td>\n",
       "      <td>9</td>\n",
       "      <td>-15.775</td>\n",
       "      <td>1</td>\n",
       "      <td>0.0342</td>\n",
       "      <td>0.9690</td>\n",
       "      <td>0.795000</td>\n",
       "      <td>0.160</td>\n",
       "      <td>0.161</td>\n",
       "      <td>69.893</td>\n",
       "      <td>74302</td>\n",
       "      <td>3</td>\n",
       "    </tr>\n",
       "    <tr>\n",
       "      <th>2</th>\n",
       "      <td>85</td>\n",
       "      <td>Joji</td>\n",
       "      <td>SLOW DANCING IN THE DARK</td>\n",
       "      <td>0rKtyWc8bvkriBthvHKY8d</td>\n",
       "      <td>0.515</td>\n",
       "      <td>0.4790</td>\n",
       "      <td>3</td>\n",
       "      <td>-7.458</td>\n",
       "      <td>1</td>\n",
       "      <td>0.0261</td>\n",
       "      <td>0.5440</td>\n",
       "      <td>0.005980</td>\n",
       "      <td>0.191</td>\n",
       "      <td>0.284</td>\n",
       "      <td>88.964</td>\n",
       "      <td>209274</td>\n",
       "      <td>4</td>\n",
       "    </tr>\n",
       "    <tr>\n",
       "      <th>3</th>\n",
       "      <td>48</td>\n",
       "      <td>Fleetwood Mac</td>\n",
       "      <td>Rhiannon (Will You Ever Win) - 2018 Remaster</td>\n",
       "      <td>4fbwTO3DJ2qryMddov9RbB</td>\n",
       "      <td>0.684</td>\n",
       "      <td>0.6380</td>\n",
       "      <td>9</td>\n",
       "      <td>-9.025</td>\n",
       "      <td>0</td>\n",
       "      <td>0.0312</td>\n",
       "      <td>0.3650</td>\n",
       "      <td>0.020700</td>\n",
       "      <td>0.119</td>\n",
       "      <td>0.810</td>\n",
       "      <td>129.959</td>\n",
       "      <td>226773</td>\n",
       "      <td>4</td>\n",
       "    </tr>\n",
       "    <tr>\n",
       "      <th>4</th>\n",
       "      <td>84</td>\n",
       "      <td>Lil Baby</td>\n",
       "      <td>Drip Too Hard (Lil Baby &amp; Gunna)</td>\n",
       "      <td>78QR3Wp35dqAhFEc2qAGjE</td>\n",
       "      <td>0.897</td>\n",
       "      <td>0.6620</td>\n",
       "      <td>1</td>\n",
       "      <td>-6.903</td>\n",
       "      <td>0</td>\n",
       "      <td>0.2920</td>\n",
       "      <td>0.0852</td>\n",
       "      <td>0.000000</td>\n",
       "      <td>0.534</td>\n",
       "      <td>0.389</td>\n",
       "      <td>112.511</td>\n",
       "      <td>145543</td>\n",
       "      <td>4</td>\n",
       "    </tr>\n",
       "  </tbody>\n",
       "</table>\n",
       "</div>"
      ],
      "text/plain": [
       "   popularity        artist_name  \\\n",
       "0          81      Morgan Wallen   \n",
       "1          24  Schoolgirl Byebye   \n",
       "2          85               Joji   \n",
       "3          48      Fleetwood Mac   \n",
       "4          84           Lil Baby   \n",
       "\n",
       "                                     track_name                track_id  \\\n",
       "0                               Whiskey Glasses  6foY66mWZN0pSRjZ408c00   \n",
       "1                                     Year,2015  0UsmyJDsst2xhX1ZiFF3JW   \n",
       "2                      SLOW DANCING IN THE DARK  0rKtyWc8bvkriBthvHKY8d   \n",
       "3  Rhiannon (Will You Ever Win) - 2018 Remaster  4fbwTO3DJ2qryMddov9RbB   \n",
       "4              Drip Too Hard (Lil Baby & Gunna)  78QR3Wp35dqAhFEc2qAGjE   \n",
       "\n",
       "   danceability  energy  key  loudness  mode  speechiness  acousticness  \\\n",
       "0         0.614  0.6800    6    -4.580     1       0.0289        0.3690   \n",
       "1         0.314  0.0855    9   -15.775     1       0.0342        0.9690   \n",
       "2         0.515  0.4790    3    -7.458     1       0.0261        0.5440   \n",
       "3         0.684  0.6380    9    -9.025     0       0.0312        0.3650   \n",
       "4         0.897  0.6620    1    -6.903     0       0.2920        0.0852   \n",
       "\n",
       "   instrumentalness  liveness  valence    tempo  duration_ms  time_signature  \n",
       "0          0.000002     0.115    0.707  149.959       234347               4  \n",
       "1          0.795000     0.160    0.161   69.893        74302               3  \n",
       "2          0.005980     0.191    0.284   88.964       209274               4  \n",
       "3          0.020700     0.119    0.810  129.959       226773               4  \n",
       "4          0.000000     0.534    0.389  112.511       145543               4  "
      ]
     },
     "execution_count": 9,
     "metadata": {},
     "output_type": "execute_result"
    }
   ],
   "source": [
    "df = pd.merge(df_tracks,df_audio_features,on='track_id',how='inner')\n",
    "print(\"Shape of the dataset:\", df_audio_features.shape)\n",
    "df.head()"
   ]
  },
  {
   "cell_type": "code",
   "execution_count": 10,
   "id": "3c830cfa-04c1-4ad9-b370-6661ffdb2cf6",
   "metadata": {},
   "outputs": [
    {
     "name": "stdout",
     "output_type": "stream",
     "text": [
      "<class 'pandas.core.frame.DataFrame'>\n",
      "Int64Index: 987 entries, 0 to 986\n",
      "Data columns (total 17 columns):\n",
      " #   Column            Non-Null Count  Dtype  \n",
      "---  ------            --------------  -----  \n",
      " 0   popularity        987 non-null    int64  \n",
      " 1   artist_name       987 non-null    object \n",
      " 2   track_name        987 non-null    object \n",
      " 3   track_id          987 non-null    object \n",
      " 4   danceability      987 non-null    float64\n",
      " 5   energy            987 non-null    float64\n",
      " 6   key               987 non-null    int64  \n",
      " 7   loudness          987 non-null    float64\n",
      " 8   mode              987 non-null    int64  \n",
      " 9   speechiness       987 non-null    float64\n",
      " 10  acousticness      987 non-null    float64\n",
      " 11  instrumentalness  987 non-null    float64\n",
      " 12  liveness          987 non-null    float64\n",
      " 13  valence           987 non-null    float64\n",
      " 14  tempo             987 non-null    float64\n",
      " 15  duration_ms       987 non-null    int64  \n",
      " 16  time_signature    987 non-null    int64  \n",
      "dtypes: float64(9), int64(5), object(3)\n",
      "memory usage: 138.8+ KB\n"
     ]
    }
   ],
   "source": [
    "df.info()"
   ]
  },
  {
   "cell_type": "code",
   "execution_count": 11,
   "id": "49e98d29-9b0c-4817-b18f-b556c181fadc",
   "metadata": {},
   "outputs": [
    {
     "data": {
      "text/html": [
       "<div>\n",
       "<style scoped>\n",
       "    .dataframe tbody tr th:only-of-type {\n",
       "        vertical-align: middle;\n",
       "    }\n",
       "\n",
       "    .dataframe tbody tr th {\n",
       "        vertical-align: top;\n",
       "    }\n",
       "\n",
       "    .dataframe thead th {\n",
       "        text-align: right;\n",
       "    }\n",
       "</style>\n",
       "<table border=\"1\" class=\"dataframe\">\n",
       "  <thead>\n",
       "    <tr style=\"text-align: right;\">\n",
       "      <th></th>\n",
       "      <th>popularity</th>\n",
       "      <th>artist_name</th>\n",
       "      <th>track_name</th>\n",
       "      <th>track_id</th>\n",
       "      <th>danceability</th>\n",
       "      <th>energy</th>\n",
       "      <th>key</th>\n",
       "      <th>loudness</th>\n",
       "      <th>mode</th>\n",
       "      <th>speechiness</th>\n",
       "      <th>acousticness</th>\n",
       "      <th>instrumentalness</th>\n",
       "      <th>liveness</th>\n",
       "      <th>valence</th>\n",
       "      <th>tempo</th>\n",
       "      <th>duration_ms</th>\n",
       "      <th>time_signature</th>\n",
       "    </tr>\n",
       "  </thead>\n",
       "  <tbody>\n",
       "  </tbody>\n",
       "</table>\n",
       "</div>"
      ],
      "text/plain": [
       "Empty DataFrame\n",
       "Columns: [popularity, artist_name, track_name, track_id, danceability, energy, key, loudness, mode, speechiness, acousticness, instrumentalness, liveness, valence, tempo, duration_ms, time_signature]\n",
       "Index: []"
      ]
     },
     "execution_count": 11,
     "metadata": {},
     "output_type": "execute_result"
    }
   ],
   "source": [
    "df[df.duplicated(subset=['artist_name','track_name'],keep=False)]"
   ]
  },
  {
   "cell_type": "code",
   "execution_count": 12,
   "id": "65c5b0c6-61ef-4f8a-882d-dced9d14f548",
   "metadata": {},
   "outputs": [],
   "source": [
    "df.to_csv('SpotifyAudioFeatures08082018.csv')"
   ]
  },
  {
   "cell_type": "code",
   "execution_count": null,
   "id": "1f7d6b8d-b6db-4988-be78-1dd831f56a30",
   "metadata": {},
   "outputs": [],
   "source": []
  }
 ],
 "metadata": {
  "kernelspec": {
   "display_name": "Python 3.9.6 64-bit",
   "language": "python",
   "name": "python3"
  },
  "language_info": {
   "codemirror_mode": {
    "name": "ipython",
    "version": 3
   },
   "file_extension": ".py",
   "mimetype": "text/x-python",
   "name": "python",
   "nbconvert_exporter": "python",
   "pygments_lexer": "ipython3",
   "version": "3.9.6"
  },
  "vscode": {
   "interpreter": {
    "hash": "8f939dc046ae95b61db57b1ddfb635e5199eac9f7bf30422bfd106b8f44dc254"
   }
  }
 },
 "nbformat": 4,
 "nbformat_minor": 5
}
